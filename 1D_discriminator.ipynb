{
  "nbformat": 4,
  "nbformat_minor": 0,
  "metadata": {
    "colab": {
      "name": "1D_discriminator.ipynb",
      "version": "0.3.2",
      "provenance": [],
      "include_colab_link": true
    },
    "kernelspec": {
      "name": "python3",
      "display_name": "Python 3"
    }
  },
  "cells": [
    {
      "cell_type": "markdown",
      "metadata": {
        "id": "view-in-github",
        "colab_type": "text"
      },
      "source": [
        "<a href=\"https://colab.research.google.com/github/teidenzero/GAN/blob/master/1D_discriminator.ipynb\" target=\"_parent\"><img src=\"https://colab.research.google.com/assets/colab-badge.svg\" alt=\"Open In Colab\"/></a>"
      ]
    },
    {
      "cell_type": "code",
      "metadata": {
        "id": "JCr5Z-phPJmW",
        "colab_type": "code",
        "colab": {}
      },
      "source": [
        "from keras.models import Sequential\n",
        "from keras.layers import Dense\n",
        "from keras.utils.vis_utils import plot_model\n",
        "from matplotlib import pyplot\n",
        "from numpy.random import rand\n",
        "from numpy import hstack\n",
        "import numpy"
      ],
      "execution_count": 0,
      "outputs": []
    },
    {
      "cell_type": "code",
      "metadata": {
        "id": "hIMxG8kpOPUW",
        "colab_type": "code",
        "colab": {}
      },
      "source": [
        "def define_discriminator(n_inputs=2):\n",
        "  model = Sequential()\n",
        "  model.add(Dense(25, activation = 'relu', kernel_initializer='he_uniform', input_dim=n_inputs))\n",
        "  model.add(Dense(1, activation='sigmoid'))\n",
        "  model.compile(loss='binary_crossentropy', optimizer='adam', metrics=['accuracy'])\n",
        "  return model"
      ],
      "execution_count": 0,
      "outputs": []
    },
    {
      "cell_type": "code",
      "metadata": {
        "id": "Jp7hVd7TPb0z",
        "colab_type": "code",
        "colab": {
          "base_uri": "https://localhost:8080/",
          "height": 787
        },
        "outputId": "961d60ee-b456-4353-fd87-cb7df02bd482"
      },
      "source": [
        "model = define_discriminator()\n",
        "model.summary()\n",
        "plot_model(model, to_file='discriminator_plot.png', show_shapes=True, show_layer_names=True)"
      ],
      "execution_count": 4,
      "outputs": [
        {
          "output_type": "stream",
          "text": [
            "WARNING:tensorflow:From /usr/local/lib/python3.6/dist-packages/keras/backend/tensorflow_backend.py:66: The name tf.get_default_graph is deprecated. Please use tf.compat.v1.get_default_graph instead.\n",
            "\n",
            "WARNING:tensorflow:From /usr/local/lib/python3.6/dist-packages/keras/backend/tensorflow_backend.py:541: The name tf.placeholder is deprecated. Please use tf.compat.v1.placeholder instead.\n",
            "\n",
            "WARNING:tensorflow:From /usr/local/lib/python3.6/dist-packages/keras/backend/tensorflow_backend.py:4432: The name tf.random_uniform is deprecated. Please use tf.random.uniform instead.\n",
            "\n",
            "WARNING:tensorflow:From /usr/local/lib/python3.6/dist-packages/keras/optimizers.py:793: The name tf.train.Optimizer is deprecated. Please use tf.compat.v1.train.Optimizer instead.\n",
            "\n",
            "WARNING:tensorflow:From /usr/local/lib/python3.6/dist-packages/keras/backend/tensorflow_backend.py:3657: The name tf.log is deprecated. Please use tf.math.log instead.\n",
            "\n",
            "WARNING:tensorflow:From /usr/local/lib/python3.6/dist-packages/tensorflow/python/ops/nn_impl.py:180: add_dispatch_support.<locals>.wrapper (from tensorflow.python.ops.array_ops) is deprecated and will be removed in a future version.\n",
            "Instructions for updating:\n",
            "Use tf.where in 2.0, which has the same broadcast rule as np.where\n",
            "Model: \"sequential_1\"\n",
            "_________________________________________________________________\n",
            "Layer (type)                 Output Shape              Param #   \n",
            "=================================================================\n",
            "dense_1 (Dense)              (None, 25)                75        \n",
            "_________________________________________________________________\n",
            "dense_2 (Dense)              (None, 1)                 26        \n",
            "=================================================================\n",
            "Total params: 101\n",
            "Trainable params: 101\n",
            "Non-trainable params: 0\n",
            "_________________________________________________________________\n"
          ],
          "name": "stdout"
        },
        {
          "output_type": "execute_result",
          "data": {
            "image/png": "[encoded data removed]",
            "text/plain": [
              "<IPython.core.display.Image object>"
            ]
          },
          "metadata": {
            "tags": []
          },
          "execution_count": 4
        }
      ]
    },
    {
      "cell_type": "code",
      "metadata": {
        "id": "IyVdkKq8QJCd",
        "colab_type": "code",
        "colab": {}
      },
      "source": [
        "# generate n real samples with class labels\n",
        "def generate_real_samples(n):\n",
        "  # generate inputs in [-0.5, 0.5]\n",
        "  X1 = rand(n) - 0.5\n",
        "  # generate outputs X^2\n",
        "  X2 = X1 * X1\n",
        "  # stack arrays\n",
        "  X1 = X1.reshape(n, 1)\n",
        "  X2 = X2.reshape(n, 1)\n",
        "  X = hstack((X1, X2))\n",
        "  # generate class labels\n",
        "  y = numpy.ones((n, 1))\n",
        "  return X, y"
      ],
      "execution_count": 0,
      "outputs": []
    },
    {
      "cell_type": "code",
      "metadata": {
        "id": "cJRRaxXERSFM",
        "colab_type": "code",
        "colab": {}
      },
      "source": [
        "# generate n fake samples with class labels\n",
        "def generate_fake_samples(n):\n",
        "  # generate inputs in [-1, 1]\n",
        "  X1 = -1 + rand(n) * 2\n",
        "  \n",
        "  \n",
        "  # generate outputs in [-1, 1]\n",
        "  X2 = -1 + rand(n) * 2\n",
        "  \n",
        "  # stack arrays\n",
        "  X1 = X1.reshape(n, 1)\n",
        "  X2 = X2.reshape(n, 1)\n",
        "  X = hstack((X1, X2))\n",
        "\n",
        "  # generate class labels\n",
        "  y = numpy.zeros((n, 1))\n",
        " \n",
        "  return X, y"
      ],
      "execution_count": 0,
      "outputs": []
    },
    {
      "cell_type": "code",
      "metadata": {
        "id": "p5Bz3e0eR14S",
        "colab_type": "code",
        "colab": {
          "base_uri": "https://localhost:8080/",
          "height": 1000
        },
        "outputId": "39ad9f0d-9895-4fd4-9d00-4981135df216"
      },
      "source": [
        "generate_fake_samples(100)\n"
      ],
      "execution_count": 27,
      "outputs": [
        {
          "output_type": "display_data",
          "data": {
            "image/png": "[encoded data removed]",
            "text/plain": [
              "<Figure size 432x288 with 1 Axes>"
            ]
          },
          "metadata": {
            "tags": []
          }
        },
        {
          "output_type": "execute_result",
          "data": {
            "text/plain": [
              "(array([[ 0.07505308,  0.01062896],\n",
              "        [-0.82653526, -0.78926277],\n",
              "        [-0.39169363,  0.24530966],\n",
              "        [ 0.2358609 , -0.97416854],\n",
              "        [-0.2682745 ,  0.63225362],\n",
              "        [ 0.15015381,  0.14184247],\n",
              "        [-0.83469703, -0.20419583],\n",
              "        [-0.07177654,  0.51872111],\n",
              "        [-0.40650209,  0.08337492],\n",
              "        [ 0.57339214, -0.85150652],\n",
              "        [-0.00346637,  0.7591988 ],\n",
              "        [ 0.63827008, -0.60652871],\n",
              "        [-0.6108694 , -0.28790009],\n",
              "        [-0.66216407, -0.35100752],\n",
              "        [ 0.10623465, -0.60171033],\n",
              "        [ 0.77529222,  0.41202787],\n",
              "        [ 0.1307867 ,  0.66783708],\n",
              "        [ 0.07793962,  0.74211922],\n",
              "        [ 0.69110977, -0.91746075],\n",
              "        [-0.00360741,  0.01636717],\n",
              "        [-0.01136548,  0.16496703],\n",
              "        [ 0.43344345, -0.75302799],\n",
              "        [ 0.3522579 ,  0.09699207],\n",
              "        [-0.54217803,  0.556272  ],\n",
              "        [-0.81488407,  0.61500856],\n",
              "        [ 0.29221084, -0.01132456],\n",
              "        [-0.49766717, -0.75671358],\n",
              "        [-0.11111835,  0.90851889],\n",
              "        [ 0.15099514, -0.6166357 ],\n",
              "        [ 0.60762758, -0.92305999],\n",
              "        [-0.76830055,  0.94153241],\n",
              "        [ 0.84146825, -0.81283204],\n",
              "        [-0.78482337, -0.63954691],\n",
              "        [-0.73664242, -0.61318603],\n",
              "        [ 0.73710639,  0.67486895],\n",
              "        [ 0.31571532,  0.15336938],\n",
              "        [ 0.96665756, -0.45271479],\n",
              "        [ 0.20681775,  0.96885534],\n",
              "        [-0.61188015,  0.9698331 ],\n",
              "        [ 0.84002719,  0.275034  ],\n",
              "        [-0.9054758 ,  0.49092923],\n",
              "        [ 0.86756917, -0.29052122],\n",
              "        [-0.90486143,  0.50286827],\n",
              "        [-0.17167141,  0.71419868],\n",
              "        [-0.56327509,  0.36759449],\n",
              "        [ 0.53616958,  0.5884993 ],\n",
              "        [-0.13776062,  0.69549429],\n",
              "        [-0.27742191,  0.22008433],\n",
              "        [ 0.88273979,  0.90541753],\n",
              "        [-0.83116085, -0.55785796],\n",
              "        [-0.13327825, -0.17732935],\n",
              "        [ 0.83308294,  0.97076541],\n",
              "        [-0.7974183 , -0.93094507],\n",
              "        [-0.06158003, -0.30118006],\n",
              "        [-0.77698157, -0.22188798],\n",
              "        [ 0.15433377,  0.02498282],\n",
              "        [-0.76853717, -0.07327247],\n",
              "        [ 0.69734686,  0.09996196],\n",
              "        [ 0.23898954,  0.22836484],\n",
              "        [-0.39380588, -0.84415985],\n",
              "        [ 0.28735374,  0.97360353],\n",
              "        [ 0.77009451,  0.15690207],\n",
              "        [ 0.82761871,  0.4462821 ],\n",
              "        [ 0.92533223,  0.71938103],\n",
              "        [ 0.77685594,  0.08928668],\n",
              "        [ 0.50495966,  0.4416887 ],\n",
              "        [-0.56703747,  0.95426074],\n",
              "        [ 0.01523014, -0.03220923],\n",
              "        [-0.81379569, -0.84485187],\n",
              "        [-0.20183028,  0.81312174],\n",
              "        [ 0.1808601 , -0.27801354],\n",
              "        [-0.02613662,  0.75080028],\n",
              "        [ 0.16225334, -0.84529312],\n",
              "        [ 0.36070731, -0.08867486],\n",
              "        [ 0.13726677, -0.62730003],\n",
              "        [ 0.10817551,  0.20024443],\n",
              "        [-0.32231863,  0.32376935],\n",
              "        [ 0.49929721, -0.88833104],\n",
              "        [ 0.94123919, -0.0084917 ],\n",
              "        [ 0.47052752, -0.53211821],\n",
              "        [ 0.0255802 , -0.61703068],\n",
              "        [-0.0236966 , -0.53919823],\n",
              "        [ 0.18639433,  0.28751317],\n",
              "        [-0.53280135, -0.17675623],\n",
              "        [-0.07662893, -0.29706077],\n",
              "        [ 0.25174328, -0.80258886],\n",
              "        [ 0.6584938 , -0.14940137],\n",
              "        [ 0.48554323, -0.69312088],\n",
              "        [-0.9245856 , -0.82019517],\n",
              "        [ 0.87363686, -0.69086956],\n",
              "        [ 0.1827423 ,  0.95634931],\n",
              "        [ 0.5998422 , -0.6902946 ],\n",
              "        [ 0.68937306,  0.57533779],\n",
              "        [ 0.72099882, -0.48728953],\n",
              "        [ 0.16946321, -0.95919723],\n",
              "        [ 0.94708885, -0.69768331],\n",
              "        [ 0.63806118, -0.38597971],\n",
              "        [ 0.57565926, -0.06748981],\n",
              "        [ 0.18128536, -0.68626983],\n",
              "        [ 0.03303848, -0.29824189]]), array([[0.],\n",
              "        [0.],\n",
              "        [0.],\n",
              "        [0.],\n",
              "        [0.],\n",
              "        [0.],\n",
              "        [0.],\n",
              "        [0.],\n",
              "        [0.],\n",
              "        [0.],\n",
              "        [0.],\n",
              "        [0.],\n",
              "        [0.],\n",
              "        [0.],\n",
              "        [0.],\n",
              "        [0.],\n",
              "        [0.],\n",
              "        [0.],\n",
              "        [0.],\n",
              "        [0.],\n",
              "        [0.],\n",
              "        [0.],\n",
              "        [0.],\n",
              "        [0.],\n",
              "        [0.],\n",
              "        [0.],\n",
              "        [0.],\n",
              "        [0.],\n",
              "        [0.],\n",
              "        [0.],\n",
              "        [0.],\n",
              "        [0.],\n",
              "        [0.],\n",
              "        [0.],\n",
              "        [0.],\n",
              "        [0.],\n",
              "        [0.],\n",
              "        [0.],\n",
              "        [0.],\n",
              "        [0.],\n",
              "        [0.],\n",
              "        [0.],\n",
              "        [0.],\n",
              "        [0.],\n",
              "        [0.],\n",
              "        [0.],\n",
              "        [0.],\n",
              "        [0.],\n",
              "        [0.],\n",
              "        [0.],\n",
              "        [0.],\n",
              "        [0.],\n",
              "        [0.],\n",
              "        [0.],\n",
              "        [0.],\n",
              "        [0.],\n",
              "        [0.],\n",
              "        [0.],\n",
              "        [0.],\n",
              "        [0.],\n",
              "        [0.],\n",
              "        [0.],\n",
              "        [0.],\n",
              "        [0.],\n",
              "        [0.],\n",
              "        [0.],\n",
              "        [0.],\n",
              "        [0.],\n",
              "        [0.],\n",
              "        [0.],\n",
              "        [0.],\n",
              "        [0.],\n",
              "        [0.],\n",
              "        [0.],\n",
              "        [0.],\n",
              "        [0.],\n",
              "        [0.],\n",
              "        [0.],\n",
              "        [0.],\n",
              "        [0.],\n",
              "        [0.],\n",
              "        [0.],\n",
              "        [0.],\n",
              "        [0.],\n",
              "        [0.],\n",
              "        [0.],\n",
              "        [0.],\n",
              "        [0.],\n",
              "        [0.],\n",
              "        [0.],\n",
              "        [0.],\n",
              "        [0.],\n",
              "        [0.],\n",
              "        [0.],\n",
              "        [0.],\n",
              "        [0.],\n",
              "        [0.],\n",
              "        [0.],\n",
              "        [0.],\n",
              "        [0.]]))"
            ]
          },
          "metadata": {
            "tags": []
          },
          "execution_count": 27
        }
      ]
    },
    {
      "cell_type": "code",
      "metadata": {
        "id": "vAqUKGM8WDwV",
        "colab_type": "code",
        "colab": {}
      },
      "source": [
        "# train the discriminator model\n",
        "def train_discriminator(model, n_epochs=1000, n_batch=128):\n",
        "  half_batch = int(n_batch / 2)\n",
        "  # run epochs manually\n",
        "  for i in range(n_epochs):\n",
        "    # generate real examples\n",
        "    X_real, y_real = generate_real_samples(half_batch)\n",
        "    #update model\n",
        "    model.train_on_batch(X_real, y_real)\n",
        "    #generate fake examples\n",
        "    X_fake, y_fake = generate_fake_samples(half_batch)\n",
        "    #update model\n",
        "    model.train_on_batch(X_fake, y_fake)\n",
        "    \n",
        "    #evaluate\n",
        "    _, acc_real = model.evaluate(X_real, y_real, verbose=0)\n",
        "    _, acc_fake = model.evaluate(X_fake, y_fake, verbose=0)\n",
        "    print(i, acc_real, acc_fake)\n",
        "   \n",
        "\n"
      ],
      "execution_count": 0,
      "outputs": []
    },
    {
      "cell_type": "code",
      "metadata": {
        "id": "UVIUWp1OWpP5",
        "colab_type": "code",
        "colab": {}
      },
      "source": [
        "model = define_discriminator()\n",
        "train_discriminator(model)"
      ],
      "execution_count": 0,
      "outputs": []
    },
    {
      "cell_type": "code",
      "metadata": {
        "id": "b0IDiu6GgyhE",
        "colab_type": "code",
        "colab": {}
      },
      "source": [
        "# define the standalone generator model\n",
        "def define_generator(latent_dim, n_outputs=2):\n",
        "  model = Sequential()\n",
        "  #print('this is happening')\n",
        "  model.add(Dense(15, activation='relu', kernel_initializer='he_uniform',\n",
        "  input_dim=latent_dim))\n",
        "  model.add(Dense(n_outputs, activation='linear'))\n",
        "  # define the discriminator model\n",
        "  return model\n",
        "\n",
        "model = define_generator(5)\n",
        "#print(model)\n",
        "#summarize the model\n",
        "\n",
        "model.summary()\n",
        "# plot the model\n",
        "plot_model(model, to_file='generator_plot.png', show_shapes=True, show_layer_names=True)"
      ],
      "execution_count": 0,
      "outputs": []
    },
    {
      "cell_type": "code",
      "metadata": {
        "id": "qDWzskKbi3tm",
        "colab_type": "code",
        "colab": {}
      },
      "source": [
        "# generate points in latent space as input for the generator\n",
        "def generate_latent_points(latent_dim, n):\n",
        "  # generate points in the latent space\n",
        "  x_input = randn(latent_dim * n)\n",
        "  # reshape into a batch of inputs for the network\n",
        "  x_input = x_input.reshape(n, latent_dim)\n",
        "  return x_input"
      ],
      "execution_count": 0,
      "outputs": []
    },
    {
      "cell_type": "code",
      "metadata": {
        "id": "xzhzBQ4sjlAD",
        "colab_type": "code",
        "colab": {}
      },
      "source": [
        "# use the generator to generate n fake examples and plot the results\n",
        "def generate_fake_samples(generator, latent_dim, n):\n",
        "  # generate points in latent space\n",
        "  x_input = generate_latent_points(latent_dim, n)\n",
        "  # predict outputs\n",
        "  X = generator.predict(x_input)\n",
        "  # plot the results\n",
        "  pyplot.scatter(X[:, 0], X[:, 1])\n",
        "  pyplot.show()"
      ],
      "execution_count": 0,
      "outputs": []
    },
    {
      "cell_type": "code",
      "metadata": {
        "id": "dBBboAjbkRHk",
        "colab_type": "code",
        "colab": {}
      },
      "source": [
        "latent_dim = 5\n",
        "model = define_generator(latent_dim)"
      ],
      "execution_count": 0,
      "outputs": []
    }
  ]
}