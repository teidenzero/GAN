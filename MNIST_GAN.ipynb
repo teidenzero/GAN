{
  "nbformat": 4,
  "nbformat_minor": 0,
  "metadata": {
    "colab": {
      "name": "MNIST_GAN.ipynb",
      "version": "0.3.2",
      "provenance": [],
      "collapsed_sections": [],
      "include_colab_link": true
    },
    "kernelspec": {
      "name": "python3",
      "display_name": "Python 3"
    }
  },
  "cells": [
    {
      "cell_type": "markdown",
      "metadata": {
        "id": "view-in-github",
        "colab_type": "text"
      },
      "source": [
        "<a href=\"https://colab.research.google.com/github/teidenzero/GAN/blob/master/MNIST_GAN.ipynb\" target=\"_parent\"><img src=\"https://colab.research.google.com/assets/colab-badge.svg\" alt=\"Open In Colab\"/></a>"
      ]
    },
    {
      "cell_type": "code",
      "metadata": {
        "id": "j_xqx4XZ3os1",
        "colab_type": "code",
        "colab": {}
      },
      "source": [
        "from keras.models import Sequential\n",
        "from keras.optimizers import Adam\n",
        "from keras.layers import Dense\n",
        "from keras.layers import Conv2D\n",
        "from keras.layers import Flatten\n",
        "from keras.layers import Dropout\n",
        "from keras.layers import Reshape\n",
        "from keras.layers import LeakyReLU\n",
        "from keras.layers import Conv2DTranspose\n",
        "from keras.utils.vis_utils import plot_model\n",
        "from numpy import ones\n",
        "from numpy import zeros\n",
        "from numpy.random import randn\n",
        "from numpy import expand_dims\n",
        "from numpy.random import rand\n",
        "from numpy.random import randint"
      ],
      "execution_count": 0,
      "outputs": []
    },
    {
      "cell_type": "code",
      "metadata": {
        "id": "rjy4NYlL4OSD",
        "colab_type": "code",
        "colab": {
          "base_uri": "https://localhost:8080/",
          "height": 54
        },
        "outputId": "9be64492-82b9-4b70-c86c-8373b1f4a5ca"
      },
      "source": [
        ""
      ],
      "execution_count": 2,
      "outputs": [
        {
          "output_type": "stream",
          "text": [
            "Downloading data from https://s3.amazonaws.com/img-datasets/mnist.npz\n",
            "11493376/11490434 [==============================] - 2s 0us/step\n"
          ],
          "name": "stdout"
        }
      ]
    },
    {
      "cell_type": "code",
      "metadata": {
        "id": "I22aSBSC5cXa",
        "colab_type": "code",
        "colab": {}
      },
      "source": [
        "#visualizing the matrix of one training example\n",
        "print(trainX[0])"
      ],
      "execution_count": 0,
      "outputs": []
    },
    {
      "cell_type": "code",
      "metadata": {
        "id": "suur3dZG4XPx",
        "colab_type": "code",
        "colab": {
          "base_uri": "https://localhost:8080/",
          "height": 54
        },
        "outputId": "81b5ed59-1cc3-4e3a-80d6-cef8eeef3d67"
      },
      "source": [
        "print('Train', trainX.shape, trainy.shape)\n",
        "print('Test', testX.shape, testy.shape)"
      ],
      "execution_count": 5,
      "outputs": [
        {
          "output_type": "stream",
          "text": [
            "Train (60000, 28, 28) (60000,)\n",
            "Test (10000, 28, 28) (10000,)\n"
          ],
          "name": "stdout"
        }
      ]
    },
    {
      "cell_type": "code",
      "metadata": {
        "id": "fZZENJYu54Oq",
        "colab_type": "code",
        "colab": {}
      },
      "source": [
        "for i in range(25):\n",
        "  pyplot.subplot(5, 5, 1 + i)\n",
        "  pyplot.axis('off')\n",
        "  pyplot.imshow(trainX[i], cmap='gray_r')\n",
        "pyplot.show()"
      ],
      "execution_count": 0,
      "outputs": []
    },
    {
      "cell_type": "code",
      "metadata": {
        "id": "ziuG61jI62OA",
        "colab_type": "code",
        "colab": {}
      },
      "source": [
        "# define the standalone discriminator model\n",
        "def define_discriminator(in_shape=(28,28,1)):\n",
        "  model = Sequential()\n",
        "  model.add(Conv2D(64, (3,3), strides=(2, 2), padding='same', input_shape=in_shape))\n",
        "  model.add(LeakyReLU(alpha=0.2))\n",
        "  model.add(Dropout(0.4))\n",
        "  model.add(Conv2D(64, (3,3), strides=(2, 2), padding='same'))\n",
        "  model.add(LeakyReLU(alpha=0.2))\n",
        "  model.add(Dropout(0.4))\n",
        "  model.add(Flatten())\n",
        "  model.add(Dense(1, activation='sigmoid'))\n",
        "# compile model\n",
        "  opt = Adam(lr=0.0002, beta_1=0.5)\n",
        "  model.compile(loss='binary_crossentropy', optimizer=opt, metrics=['accuracy'])\n",
        "  return model"
      ],
      "execution_count": 0,
      "outputs": []
    },
    {
      "cell_type": "code",
      "metadata": {
        "id": "8N4DP23Y7fqy",
        "colab_type": "code",
        "colab": {}
      },
      "source": [
        "model = define_discriminator()\n",
        "model.summary()\n",
        "plot_model(model, to_file='discriminator_plot.png', show_shapes=True, show_layer_names=True)"
      ],
      "execution_count": 0,
      "outputs": []
    },
    {
      "cell_type": "code",
      "metadata": {
        "id": "hzUb_O4z8PuY",
        "colab_type": "code",
        "colab": {}
      },
      "source": [
        "def load_real_samples():\n",
        "  (trainX, _), (_,_) = load_data()\n",
        "  # expand to 3d, e.g. add channels dimension\n",
        "  X = expand_dims(trainX, axis=-1)\n",
        "  # convert from unsigned ints to floats\n",
        "  X = X.astype('float32')\n",
        "  # scale from [0,255] to [0,1]\n",
        "  X = X / 255.0\n",
        "  return X"
      ],
      "execution_count": 0,
      "outputs": []
    },
    {
      "cell_type": "code",
      "metadata": {
        "id": "J7dXEkvJ9f8Y",
        "colab_type": "code",
        "colab": {}
      },
      "source": [
        "def generate_real_samples(dataset, n_samples):\n",
        "  ix = randint(0, dataset.shape[0], n_samples)\n",
        "  X = dataset[ix]\n",
        "  y = ones((n_samples, 1))\n",
        "  return X, y\n"
      ],
      "execution_count": 0,
      "outputs": []
    },
    {
      "cell_type": "code",
      "metadata": {
        "id": "5trvimX8AJAo",
        "colab_type": "code",
        "colab": {}
      },
      "source": [
        "# generate n fake samples with class labels\n",
        "def generate_fake_samples(g_model, latent_dim, n_samples):\n",
        "  # generate points in latent space\n",
        "  x_input = generate_latent_points(latent_dim, n_samples)\n",
        "  # predict outputs\n",
        "  X = g_model.predict(x_input)\n",
        "  # generate ✬fake✬ class labels (0)\n",
        "  y = zeros((n_samples, 1))\n",
        "  return X, y"
      ],
      "execution_count": 0,
      "outputs": []
    },
    {
      "cell_type": "code",
      "metadata": {
        "id": "qCngCP7CAbSL",
        "colab_type": "code",
        "colab": {}
      },
      "source": [
        "# train the discriminator model\n",
        "def train_discriminator(model, dataset, n_iter=100, n_batch=256):\n",
        "  half_batch = int(n_batch / 2)\n",
        "  # manually enumerate epochs\n",
        "  for i in range(n_iter):\n",
        "    # get randomly selected ✬real✬ samples\n",
        "    X_real, y_real = generate_real_samples(dataset, half_batch)\n",
        "    # update discriminator on real samples\n",
        "    _, real_acc = model.train_on_batch(X_real, y_real)\n",
        "    # generate ✬fake✬ examples\n",
        "    X_fake, y_fake = generate_fake_samples(half_batch)\n",
        "    # update discriminator on fake samples\n",
        "    _, fake_acc = model.train_on_batch(X_fake, y_fake)\n",
        "    # summarize performance\n",
        "    print('>%d real=%.0f%% fake=%.0f%%' % (i+1, real_acc*100, fake_acc*100))"
      ],
      "execution_count": 0,
      "outputs": []
    },
    {
      "cell_type": "code",
      "metadata": {
        "id": "8dJn5YFaA2oG",
        "colab_type": "code",
        "colab": {}
      },
      "source": [
        "# define the discriminator model\n",
        "model = define_discriminator()\n",
        "# load image data\n",
        "dataset = load_real_samples()\n",
        "# fit the model\n",
        "train_discriminator(model, dataset)"
      ],
      "execution_count": 0,
      "outputs": []
    },
    {
      "cell_type": "markdown",
      "metadata": {
        "id": "dzwug6GhDPBt",
        "colab_type": "text"
      },
      "source": [
        "**Inputs**: Point in latent space, e.g. a 100 element vector of Gaussian random numbers.\n",
        "\n",
        "**Outputs**: Two-dimensional square grayscale image of 28 × 28 pixels with pixel values in\n",
        "[0,1].# New Section"
      ]
    },
    {
      "cell_type": "code",
      "metadata": {
        "id": "yZWFahDvDicO",
        "colab_type": "code",
        "colab": {}
      },
      "source": [
        "# define the standalone generator model\n",
        "def define_generator(latent_dim):\n",
        "  model = Sequential()\n",
        "  # foundation for 7x7 image\n",
        "  n_nodes = 128 * 7 * 7\n",
        "  model.add(Dense(n_nodes, input_dim=latent_dim))\n",
        "  model.add(LeakyReLU(alpha=0.2))\n",
        "  model.add(Reshape((7, 7, 128)))\n",
        "  # upsample to 14x14\n",
        "  model.add(Conv2DTranspose(128, (4,4), strides=(2,2), padding='same'))\n",
        "  model.add(LeakyReLU(alpha=0.2))\n",
        "  # upsample to 28x28\n",
        "  model.add(Conv2DTranspose(128, (4,4), strides=(2,2), padding='same'))\n",
        "  model.add(LeakyReLU(alpha=0.2))\n",
        "  model.add(Conv2D(1, (7,7), activation='sigmoid', padding='same'))\n",
        "  return model"
      ],
      "execution_count": 0,
      "outputs": []
    },
    {
      "cell_type": "markdown",
      "metadata": {
        "id": "12o5vCEfGcQo",
        "colab_type": "text"
      },
      "source": [
        "The\n",
        "generator model is not compiled and does not specify a loss function or optimization algorithm.\n",
        "This is because the generator is not trained directly. (see why later)"
      ]
    },
    {
      "cell_type": "code",
      "metadata": {
        "id": "OCZkQosrGhde",
        "colab_type": "code",
        "colab": {}
      },
      "source": [
        "# define the size of the latent space\n",
        "latent_dim = 100\n",
        "# define the generator model\n",
        "model = define_generator(latent_dim)\n",
        "# summarize the model\n",
        "model.summary()\n",
        "# plot the model\n",
        "plot_model(model, to_file='generator_plot.png', show_shapes=True, show_layer_names=True)"
      ],
      "execution_count": 0,
      "outputs": []
    },
    {
      "cell_type": "code",
      "metadata": {
        "id": "eAS1nzm3KnZy",
        "colab_type": "code",
        "colab": {}
      },
      "source": [
        "# generate points in latent space as input for the generator\n",
        "def generate_latent_points(latent_dim, n_samples):\n",
        "  # generate points in the latent space\n",
        "  x_input = randn(latent_dim * n_samples)\n",
        "  # reshape into a batch of inputs for the network\n",
        "  x_input = x_input.reshape(n_samples, latent_dim)\n",
        "  return x_input"
      ],
      "execution_count": 0,
      "outputs": []
    },
    {
      "cell_type": "code",
      "metadata": {
        "id": "eVF_Z4mvLYgM",
        "colab_type": "code",
        "colab": {
          "base_uri": "https://localhost:8080/",
          "height": 269
        },
        "outputId": "a6ac7534-b15a-4848-a562-23f92d2b1967"
      },
      "source": [
        "# size of the latent space\n",
        "latent_dim = 100\n",
        "# define the discriminator model\n",
        "model = define_generator(latent_dim)\n",
        "# generate samples\n",
        "n_samples = 25\n",
        "X, _ = generate_fake_samples(model, latent_dim, n_samples)\n",
        "# plot the generated samples\n",
        "for i in range(n_samples):\n",
        "  # define subplot\n",
        "  pyplot.subplot(5, 5, 1 + i)\n",
        "  # turn off axis labels\n",
        "  pyplot.axis('off')\n",
        "  # plot single image\n",
        "  pyplot.imshow(X[i, :, :, 0], cmap='gray_r')\n",
        "# show the figure\n",
        "pyplot.show()"
      ],
      "execution_count": 43,
      "outputs": [
        {
          "output_type": "display_data",
          "data": {
            "image/png": "[encoded data removed]",
            "text/plain": [
              "<Figure size 432x288 with 25 Axes>"
            ]
          },
          "metadata": {
            "tags": []
          }
        }
      ]
    },
    {
      "cell_type": "markdown",
      "metadata": {
        "id": "_RT5DSWiLuq5",
        "colab_type": "text"
      },
      "source": [
        "#Training the Generator Model"
      ]
    },
    {
      "cell_type": "markdown",
      "metadata": {
        "id": "zjGp2KRLMXqs",
        "colab_type": "text"
      },
      "source": [
        "When training the generator via this logical\n",
        "GAN model, there is one more important change. We want the discriminator to think that the\n",
        "samples output by the generator are real, not fake. Therefore, when the generator is trained as\n",
        "part of the GAN model, we will mark the generated samples as real (class = 1).\n",
        "\n",
        "The\n",
        "backpropagation process used to update the model weights will see this as a large error and will\n",
        "update the model weights (i.e. only the weights in the generator) to correct for this error,\n",
        "\n",
        "This is also why the discriminator isn't trained at the same time of the generator: otherwise it would think it's making mistakes classifying as 'fake' images labeled as 'real'."
      ]
    },
    {
      "cell_type": "markdown",
      "metadata": {
        "id": "DMiFyQq3M2iN",
        "colab_type": "text"
      },
      "source": [
        "**Inputs**: Point in latent space, e.g. a 100 element vector of Gaussian random numbers.\n",
        "\n",
        "**Outputs**: Binary classification, likelihood the sample is real (or fake)."
      ]
    },
    {
      "cell_type": "code",
      "metadata": {
        "id": "DtvB-1xGL06N",
        "colab_type": "code",
        "colab": {}
      },
      "source": [
        "# define the combined generator and discriminator model, for updating the generator\n",
        "def define_gan(g_model, d_model):\n",
        "  # make weights in the discriminator not trainable\n",
        "  d_model.trainable = False\n",
        "  # connect them\n",
        "  model = Sequential()\n",
        "  # add generator\n",
        "  model.add(g_model)\n",
        "  # add the discriminator\n",
        "  model.add(d_model)\n",
        "  # compile model\n",
        "  opt = Adam(lr=0.0002, beta_1=0.5)\n",
        "  model.compile(loss='binary_crossentropy', optimizer=opt)\n",
        "  return model"
      ],
      "execution_count": 0,
      "outputs": []
    },
    {
      "cell_type": "markdown",
      "metadata": {
        "id": "7Jy9nWeMMso-",
        "colab_type": "text"
      },
      "source": [
        ""
      ]
    }
  ]
}